{
 "cells": [
  {
   "cell_type": "code",
   "execution_count": 1,
   "id": "c7b0d432",
   "metadata": {},
   "outputs": [
    {
     "name": "stdout",
     "output_type": "stream",
     "text": [
      "      Date  Profit/Losses\n",
      "0   Jan-10        1088983\n",
      "1   Feb-10        -354534\n",
      "2   Mar-10         276622\n",
      "3   Apr-10        -728133\n",
      "4   May-10         852993\n",
      "..     ...            ...\n",
      "81  Oct-16        -729004\n",
      "82  Nov-16        -112209\n",
      "83  Dec-16         516313\n",
      "84  Jan-17         607208\n",
      "85  Feb-17         382539\n",
      "\n",
      "[86 rows x 2 columns]\n"
     ]
    }
   ],
   "source": [
    "import pandas as pd\n",
    "budget = pd.read_csv('budget_data.csv')\n",
    "print(budget)"
   ]
  },
  {
   "cell_type": "code",
   "execution_count": 2,
   "id": "bf8cf74a",
   "metadata": {},
   "outputs": [
    {
     "name": "stdout",
     "output_type": "stream",
     "text": [
      "number of months = 86\n"
     ]
    }
   ],
   "source": [
    "print(f\"number of months = {len(budget)}\")\n",
    "months = len(budget)"
   ]
  },
  {
   "cell_type": "code",
   "execution_count": 3,
   "id": "84e2607c",
   "metadata": {},
   "outputs": [
    {
     "name": "stdout",
     "output_type": "stream",
     "text": [
      "22564198\n"
     ]
    }
   ],
   "source": [
    "net = 0\n",
    "for index, row in budget.iterrows():\n",
    "    net = net + row['Profit/Losses']\n",
    "print(net)    "
   ]
  },
  {
   "cell_type": "code",
   "execution_count": 4,
   "id": "2854c8fb",
   "metadata": {},
   "outputs": [
    {
     "data": {
      "text/html": [
       "<div>\n",
       "<style scoped>\n",
       "    .dataframe tbody tr th:only-of-type {\n",
       "        vertical-align: middle;\n",
       "    }\n",
       "\n",
       "    .dataframe tbody tr th {\n",
       "        vertical-align: top;\n",
       "    }\n",
       "\n",
       "    .dataframe thead th {\n",
       "        text-align: right;\n",
       "    }\n",
       "</style>\n",
       "<table border=\"1\" class=\"dataframe\">\n",
       "  <thead>\n",
       "    <tr style=\"text-align: right;\">\n",
       "      <th></th>\n",
       "      <th>Date</th>\n",
       "      <th>Profit/Losses</th>\n",
       "      <th>net</th>\n",
       "    </tr>\n",
       "  </thead>\n",
       "  <tbody>\n",
       "    <tr>\n",
       "      <th>0</th>\n",
       "      <td>Jan-10</td>\n",
       "      <td>1088983</td>\n",
       "      <td>NaN</td>\n",
       "    </tr>\n",
       "    <tr>\n",
       "      <th>1</th>\n",
       "      <td>Feb-10</td>\n",
       "      <td>-354534</td>\n",
       "      <td>-1443517.0</td>\n",
       "    </tr>\n",
       "    <tr>\n",
       "      <th>2</th>\n",
       "      <td>Mar-10</td>\n",
       "      <td>276622</td>\n",
       "      <td>631156.0</td>\n",
       "    </tr>\n",
       "    <tr>\n",
       "      <th>3</th>\n",
       "      <td>Apr-10</td>\n",
       "      <td>-728133</td>\n",
       "      <td>-1004755.0</td>\n",
       "    </tr>\n",
       "    <tr>\n",
       "      <th>4</th>\n",
       "      <td>May-10</td>\n",
       "      <td>852993</td>\n",
       "      <td>1581126.0</td>\n",
       "    </tr>\n",
       "    <tr>\n",
       "      <th>...</th>\n",
       "      <td>...</td>\n",
       "      <td>...</td>\n",
       "      <td>...</td>\n",
       "    </tr>\n",
       "    <tr>\n",
       "      <th>81</th>\n",
       "      <td>Oct-16</td>\n",
       "      <td>-729004</td>\n",
       "      <td>-1627245.0</td>\n",
       "    </tr>\n",
       "    <tr>\n",
       "      <th>82</th>\n",
       "      <td>Nov-16</td>\n",
       "      <td>-112209</td>\n",
       "      <td>616795.0</td>\n",
       "    </tr>\n",
       "    <tr>\n",
       "      <th>83</th>\n",
       "      <td>Dec-16</td>\n",
       "      <td>516313</td>\n",
       "      <td>628522.0</td>\n",
       "    </tr>\n",
       "    <tr>\n",
       "      <th>84</th>\n",
       "      <td>Jan-17</td>\n",
       "      <td>607208</td>\n",
       "      <td>90895.0</td>\n",
       "    </tr>\n",
       "    <tr>\n",
       "      <th>85</th>\n",
       "      <td>Feb-17</td>\n",
       "      <td>382539</td>\n",
       "      <td>-224669.0</td>\n",
       "    </tr>\n",
       "  </tbody>\n",
       "</table>\n",
       "<p>86 rows × 3 columns</p>\n",
       "</div>"
      ],
      "text/plain": [
       "      Date  Profit/Losses        net\n",
       "0   Jan-10        1088983        NaN\n",
       "1   Feb-10        -354534 -1443517.0\n",
       "2   Mar-10         276622   631156.0\n",
       "3   Apr-10        -728133 -1004755.0\n",
       "4   May-10         852993  1581126.0\n",
       "..     ...            ...        ...\n",
       "81  Oct-16        -729004 -1627245.0\n",
       "82  Nov-16        -112209   616795.0\n",
       "83  Dec-16         516313   628522.0\n",
       "84  Jan-17         607208    90895.0\n",
       "85  Feb-17         382539  -224669.0\n",
       "\n",
       "[86 rows x 3 columns]"
      ]
     },
     "execution_count": 4,
     "metadata": {},
     "output_type": "execute_result"
    }
   ],
   "source": [
    "budget['net']=budget['Profit/Losses'].diff()\n",
    "budget"
   ]
  },
  {
   "cell_type": "code",
   "execution_count": 5,
   "id": "9c2bcf36",
   "metadata": {},
   "outputs": [
    {
     "name": "stdout",
     "output_type": "stream",
     "text": [
      "-8311.11\n"
     ]
    }
   ],
   "source": [
    "print(round(budget['net'].mean(), 2))\n",
    "mean_net = round(budget['net'].mean(), 2)"
   ]
  },
  {
   "cell_type": "code",
   "execution_count": 14,
   "id": "026e5480",
   "metadata": {},
   "outputs": [],
   "source": [
    "maximum = budget['net'].max()\n",
    "for index, row in budget.iterrows():\n",
    "    if row['net']==maximum:\n",
    "        #print(row['Date'], row['net'])\n",
    "        max_date, max_net = row['Date'], row['net']\n",
    "max_net=int(max_net)"
   ]
  },
  {
   "cell_type": "code",
   "execution_count": 15,
   "id": "bdd67cc8",
   "metadata": {},
   "outputs": [
    {
     "name": "stdout",
     "output_type": "stream",
     "text": [
      "Feb-14 -1825558.0\n"
     ]
    }
   ],
   "source": [
    "minimum = budget['net'].min()\n",
    "for index, row in budget.iterrows():\n",
    "    if row['net']==minimum:\n",
    "        print(row['Date'], row['net'])\n",
    "        min_date, min_net = row['Date'], row['net']\n",
    "min_net = int(min_net)"
   ]
  },
  {
   "cell_type": "code",
   "execution_count": 17,
   "id": "2348ec03",
   "metadata": {},
   "outputs": [
    {
     "name": "stdout",
     "output_type": "stream",
     "text": [
      "Financial Analysis \n",
      "---------------------------- \n",
      "\n",
      "Total Months: 86\n",
      "\n",
      "Total: $22564198\n",
      "\n",
      "Average Change: $-8311.11\n",
      "\n",
      "Greatest Increase in Profits: Aug-16 ($1862002)\n",
      "\n",
      "Greatest Decrease in Profits: Feb-14 ($-1825558)\n"
     ]
    }
   ],
   "source": [
    "print(\"Financial Analysis \\n---------------------------- \\n\")\n",
    "print(\"Total Months: \"+ str(months))\n",
    "print(\"\\nTotal: $\"+str(net))\n",
    "print(\"\\nAverage Change: $\"+str(mean_net))\n",
    "print(f\"\\nGreatest Increase in Profits: {max_date} (${max_net})\")\n",
    "print(f\"\\nGreatest Decrease in Profits: {min_date} (${min_net})\")"
   ]
  },
  {
   "cell_type": "code",
   "execution_count": null,
   "id": "e0d56a7d",
   "metadata": {},
   "outputs": [],
   "source": []
  }
 ],
 "metadata": {
  "kernelspec": {
   "display_name": "Python 3 (ipykernel)",
   "language": "python",
   "name": "python3"
  },
  "language_info": {
   "codemirror_mode": {
    "name": "ipython",
    "version": 3
   },
   "file_extension": ".py",
   "mimetype": "text/x-python",
   "name": "python",
   "nbconvert_exporter": "python",
   "pygments_lexer": "ipython3",
   "version": "3.11.5"
  }
 },
 "nbformat": 4,
 "nbformat_minor": 5
}
